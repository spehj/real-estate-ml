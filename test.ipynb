{
 "cells": [
  {
   "cell_type": "markdown",
   "metadata": {},
   "source": [
    "# First test"
   ]
  },
  {
   "cell_type": "code",
   "execution_count": 7,
   "metadata": {},
   "outputs": [
    {
     "name": "stdout",
     "output_type": "stream",
     "text": [
      "[0, 1, 2, 3, 4, 5, 6, 7, 9, 9, 10, 11, 12, 0, 1, 2, 3, 4, 5, 6, 7, 9, 9, 10, 11, 12]\n"
     ]
    }
   ],
   "source": [
    "data = [0 ,1,2,3,4,5,6,7,9,9,10,11,12]\n",
    "print(data*2)"
   ]
  },
  {
   "cell_type": "code",
   "execution_count": 6,
   "metadata": {},
   "outputs": [
    {
     "name": "stdout",
     "output_type": "stream",
     "text": [
      "[ 0  2  4  6  8 10 12 14 18 18 20 22 24]\n"
     ]
    }
   ],
   "source": [
    "import numpy as np\n",
    "\n",
    "grades = np.array(data)\n",
    "print(grades*2)\n"
   ]
  },
  {
   "cell_type": "code",
   "execution_count": 9,
   "metadata": {},
   "outputs": [
    {
     "name": "stdout",
     "output_type": "stream",
     "text": [
      "      Area       City Deactivated  \\\n",
      "0     29.1  Ljubljana  2021-03-26   \n",
      "1     61.3  Ljubljana  2021-03-26   \n",
      "2     83.8  Ljubljana  2021-03-26   \n",
      "3     45.0  Ljubljana  2021-03-26   \n",
      "4     73.3  Ljubljana  2021-03-26   \n",
      "..     ...        ...         ...   \n",
      "994  135.0  Ljubljana  2021-03-26   \n",
      "995  307.3  Ljubljana  2021-03-26   \n",
      "996  275.7  Ljubljana  2021-03-26   \n",
      "997  280.0  Ljubljana  2021-03-26   \n",
      "998  160.0  Ljubljana  2021-03-26   \n",
      "\n",
      "                                           Description  Floor   ID  Land_m2  \\\n",
      "0    29,1 m2, garsonjera, zgrajena l. 1982, adaptir...      8    0      NaN   \n",
      "1    61,3 m2, 3-sobno, zgrajeno l. 1986, adaptirano...      4    1      NaN   \n",
      "2    83,8 m2, 4-sobno, zgrajeno l. 1967, 3. nad., O...      3    2      NaN   \n",
      "3    45 m2, 1-sobno, zgrajeno l. 1978, adaptirano l...      P    3      NaN   \n",
      "4    73,3 m2, 3-sobno, zgrajeno l. 1988, adaptirano...    NaN    4      NaN   \n",
      "..                                                 ...    ...  ...      ...   \n",
      "994  135 m2, dvostanovanjska, zgrajena l. 2019, 235...    NaN  994    235.0   \n",
      "995  307,3 m2, samostojna, zgrajena l. 2007, 1.395 ...  K+P+1  995   1395.0   \n",
      "996  275,7 m2, dvostanovanjska, zgrajena l. 1964, a...    NaN  996    615.0   \n",
      "997  280 m2, samostojna, zgrajena l. 1964, adaptira...  K+P+1  997    615.0   \n",
      "998  160 m2, samostojna, zgrajena l. 1995, 259 m2 z...  K+P+M  998    259.0   \n",
      "\n",
      "                                                  Link               Location  \\\n",
      "0    https://www.nepremicnine.net/oglasi-prodaja/bs...     ljubljana-bezigrad   \n",
      "1    https://www.nepremicnine.net/oglasi-prodaja/cr...     ljubljana-bezigrad   \n",
      "2    https://www.nepremicnine.net/oglasi-prodaja/lj...     ljubljana-bezigrad   \n",
      "3    https://www.nepremicnine.net/oglasi-prodaja/lj...     ljubljana-bezigrad   \n",
      "4    https://www.nepremicnine.net/oglasi-prodaja/lj...     ljubljana-bezigrad   \n",
      "..                                                 ...                    ...   \n",
      "994  https://www.nepremicnine.net/oglasi-prodaja/lj...  ljubljana-moste-polje   \n",
      "995  https://www.nepremicnine.net/oglasi-prodaja/lj...  ljubljana-moste-polje   \n",
      "996  https://www.nepremicnine.net/oglasi-prodaja/lj...  ljubljana-moste-polje   \n",
      "997  https://www.nepremicnine.net/oglasi-prodaja/lj...  ljubljana-moste-polje   \n",
      "998  https://www.nepremicnine.net/oglasi-prodaja/lj...  ljubljana-moste-polje   \n",
      "\n",
      "        Price  Price_m2           Region  \\\n",
      "0    117000.0      4021  ljubljana-mesto   \n",
      "1    167000.0      2724  ljubljana-mesto   \n",
      "2      2505.0        30  ljubljana-mesto   \n",
      "3    133000.0      2956  ljubljana-mesto   \n",
      "4    255000.0      3479  ljubljana-mesto   \n",
      "..        ...       ...              ...   \n",
      "994  289000.0      2141  ljubljana-mesto   \n",
      "995  660000.0      2148  ljubljana-mesto   \n",
      "996  425000.0      1542  ljubljana-mesto   \n",
      "997  425000.0      1518  ljubljana-mesto   \n",
      "998  250000.0      1562  ljubljana-mesto   \n",
      "\n",
      "                                               Title        Type  \\\n",
      "0                             BS 3, BLIŽINA FAKULTET  stanovanje   \n",
      "1                                             ČRNUČE  stanovanje   \n",
      "2      LJ. BEŽIGRAD, BALKON, DVIGALO, SUPER LOKACIJA  stanovanje   \n",
      "3                   LJ. BEŽIGRAD, BRATOVŠEVA PLOŠČAD  stanovanje   \n",
      "4    LJ. BEŽIGRAD, ZUPANČIČEVA JAMA, DVIGALO, BALKON  stanovanje   \n",
      "..                                               ...         ...   \n",
      "994                       LJ. MOSTE, HRUŠEVSKA CESTA        hisa   \n",
      "995                               LJ. MOSTE, HRUŠICA        hisa   \n",
      "996                        LJ. MOSTE, KAJUHOVA ULICA        hisa   \n",
      "997                        LJ. MOSTE, KAJUHOVA ULICA        hisa   \n",
      "998                                LJ. MOSTE, KAŠELJ        hisa   \n",
      "\n",
      "                 Update  Year                       _id  \n",
      "0   2020-02-03 14:45:09  1982  5e3831f56666db7c711c12ef  \n",
      "1   2020-02-03 14:45:09  1986  5e3831f56666db7c711c12f0  \n",
      "2   2020-02-03 14:45:09  1967  5e3831f56666db7c711c12f1  \n",
      "3   2020-02-03 14:45:09  1978  5e3831f56666db7c711c12f2  \n",
      "4   2020-02-03 14:45:09  1988  5e3831f56666db7c711c12f3  \n",
      "..                  ...   ...                       ...  \n",
      "994 2020-02-03 14:45:11  2019  5e3831f76666db7c711c16d1  \n",
      "995 2020-02-03 14:45:11  2007  5e3831f76666db7c711c16d2  \n",
      "996 2020-02-03 14:45:11  1964  5e3831f76666db7c711c16d3  \n",
      "997 2020-02-03 14:45:11  1964  5e3831f76666db7c711c16d4  \n",
      "998 2020-02-03 14:45:11  1995  5e3831f76666db7c711c16d5  \n",
      "\n",
      "[999 rows x 17 columns]\n"
     ]
    }
   ],
   "source": [
    "import pandas as pd\n",
    "\n",
    "df = pd.read_excel('nepremicnine_data - part I.xlsx')\n",
    "print(df)"
   ]
  }
 ],
 "metadata": {
  "kernelspec": {
   "display_name": "Python 3.10.6 64-bit ('re-ml')",
   "language": "python",
   "name": "python3"
  },
  "language_info": {
   "codemirror_mode": {
    "name": "ipython",
    "version": 3
   },
   "file_extension": ".py",
   "mimetype": "text/x-python",
   "name": "python",
   "nbconvert_exporter": "python",
   "pygments_lexer": "ipython3",
   "version": "3.10.6"
  },
  "orig_nbformat": 4,
  "vscode": {
   "interpreter": {
    "hash": "1d71b3b52a45a608f76e6829ff7bd8c5ca48b41066c6a4e3c3768498d8d779e9"
   }
  }
 },
 "nbformat": 4,
 "nbformat_minor": 2
}
